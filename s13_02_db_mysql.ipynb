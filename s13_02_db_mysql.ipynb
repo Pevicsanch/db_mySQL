{
 "cells": [
  {
   "cell_type": "markdown",
   "id": "857001a9",
   "metadata": {},
   "source": [
    "$~$\n",
    "\n",
    "# IT Academy - Data Science Itinerary\n",
    "\n",
    "\n",
    "\n",
    "$~$"
   ]
  },
  {
   "cell_type": "markdown",
   "id": "bfe114f9",
   "metadata": {},
   "source": [
    "In **this project** we are going to connect through **python** to a relational database that we have previously created using **MySQL**.\n",
    "$~$\n",
    "\n",
    "The objectives of this project are as follows: \n",
    "\n",
    "+ create a relational database using My SQL Workbench. \n",
    "\n",
    "+ connect to that database using python.\n",
    "\n",
    "+ make some queries and pass the result of it to a dataframe"
   ]
  },
  {
   "cell_type": "markdown",
   "id": "ad6e86cc",
   "metadata": {},
   "source": [
    "## S12 T02: DB with MySQL\n",
    "___\n"
   ]
  },
  {
   "cell_type": "code",
   "execution_count": 20,
   "id": "343f71ef",
   "metadata": {},
   "outputs": [],
   "source": [
    "#importing libraries\n",
    "import mysql.connector\n",
    "from mysql.connector import Error\n",
    "import pandas as pd\n",
    "import seaborn as sns\n",
    "import matplotlib.pyplot as plt\n",
    "from palettable.colorbrewer.qualitative import Pastel1_7\n",
    "import warnings\n",
    "warnings.filterwarnings(\"ignore\")"
   ]
  },
  {
   "cell_type": "markdown",
   "id": "7557656a",
   "metadata": {},
   "source": [
    "$~$\n",
    "___\n",
    "####  Exercise 1\n",
    "\n",
    "$~$\n",
    "\n",
    "Create relational database and access with Python\n",
    "\n",
    "$~$\n",
    "___"
   ]
  },
  {
   "cell_type": "markdown",
   "id": "3c7717fe",
   "metadata": {},
   "source": [
    "For this exercise we will design a database for a **library**."
   ]
  },
  {
   "cell_type": "markdown",
   "id": "96705941",
   "metadata": {},
   "source": [
    "$~$\n",
    "\n",
    "+ First, we have designed a diagram for the database as follows.\n",
    "\n",
    "$~$\n",
    "\n",
    "![Image](./diagram1.png)"
   ]
  },
  {
   "cell_type": "markdown",
   "id": "1d2bb4ca",
   "metadata": {},
   "source": [
    "$~$\n",
    "\n",
    "+ The next step was to write a sql script to create the database and the tables\n",
    "\n",
    "$~$\n",
    "\n",
    "The scrip with which we have the database is as follows. \n",
    "\n",
    "$~$\n",
    "\n",
    "(***note that the scrip is also part of the repository.***)"
   ]
  },
  {
   "cell_type": "code",
   "execution_count": null,
   "id": "52775165",
   "metadata": {
    "vscode": {
     "languageId": "sql"
    }
   },
   "outputs": [],
   "source": [
    "CREATE DATABASE IF NOT EXISTS library1;\n",
    "USE library1;\n",
    "DROP TABLE IF EXISTS Borrow;\n",
    "DROP TABLE IF EXISTS Book;\n",
    "DROP TABLE IF EXISTS Clients;\n",
    "DROP TABLE IF EXISTS Topic;\n",
    "DROP TABLE IF EXISTS Publishing_house;\n",
    "DROP TABLE IF EXISTS Author;\n",
    "\n",
    "CREATE TABLE Author (\n",
    "\tidauthor INT NOT NULL AUTO_INCREMENT,\n",
    "\tNameAuthor VARCHAR(60) NOT NULL,\n",
    "\tPRIMARY KEY (idauthor)\n",
    ") ENGINE=InnoDB;\n",
    "\n",
    "CREATE TABLE Publishing_house (\n",
    "\tidpublishing INT NOT NULL AUTO_INCREMENT,\n",
    "\tNamepublishing VARCHAR(30) NOT NULL,\n",
    "\tAddress VARCHAR (100) NOT NULL,\n",
    "\tTelephone VARCHAR (15) NOT NULL, \n",
    " \tPRIMARY KEY (idpublishing)\n",
    ") ENGINE=InnoDB;\n",
    "\n",
    "CREATE TABLE Topic (\n",
    "\tidTopic INT NOT NULL AUTO_INCREMENT,\n",
    "\tNameTopic VARCHAR(30) NOT NULL,\n",
    "\tPRIMARY KEY (idTopic)\n",
    ") ENGINE=InnoDB;\n",
    "\n",
    "CREATE TABLE Clients (\n",
    "\tidClient INT NOT NULL AUTO_INCREMENT,\n",
    "\tNameClients VARCHAR(60) NOT NULL,\n",
    "\tAddress VARCHAR(100) NOT NULL,\n",
    "\tEmail VARCHAR(60) NULL DEFAULT 'non E-mail',\n",
    "\tTelephone VARCHAR(15) NOT NULL,\n",
    "\tPRIMARY KEY (idClient)\n",
    ") ENGINE=InnoDB;\n",
    "\n",
    "CREATE TABLE Book (\n",
    "\tidBook INT NOT NULL AUTO_INCREMENT,\n",
    "\tISBN VARCHAR(20) NOT NULL UNIQUE,\n",
    "\tTitle VARCHAR(100) NOT NULL,\n",
    "\tNumberExemplars TINYINT NOT NULL,\n",
    "\tidauthor INT NOT NULL,\n",
    "\tidpublishing INT NOT NULL,\n",
    "\tidTopic INT NOT NULL,\n",
    "\tPRIMARY KEY (idBook),\n",
    "\tFOREIGN KEY (idauthor) REFERENCES Author (idauthor) ON DELETE CASCADE ON UPDATE CASCADE,\n",
    "\tFOREIGN KEY (idpublishing) REFERENCES Publishing_house (idpublishing) ON DELETE CASCADE ON UPDATE CASCADE,\n",
    "\tFOREIGN KEY (idTopic) REFERENCES Topic (idTopic) ON DELETE CASCADE ON UPDATE CASCADE\n",
    ") ENGINE=InnoDB;\n",
    "\n",
    "CREATE TABLE Borrow (\n",
    "\tidBorrow INT NOT NULL AUTO_INCREMENT,\n",
    "\tDateBorrow DATE NOT NULL,\n",
    "\tDateDeliver DATE NOT NULL,\n",
    "\tidClient INT NOT NULL,\n",
    "\tidBook INT NOT NULL,\n",
    "\tPRIMARY KEY (idBorrow),\n",
    "\tFOREIGN KEY (idClient) REFERENCES Clients (idClient) ON DELETE CASCADE ON UPDATE CASCADE,\n",
    "\tFOREIGN KEY (idBook) REFERENCES Book (idBook) ON DELETE CASCADE ON UPDATE CASCADE\n",
    ") ENGINE=InnoDB;"
   ]
  },
  {
   "cell_type": "markdown",
   "id": "30ebc193",
   "metadata": {},
   "source": [
    "$~$\n",
    "\n",
    "+ the next step is to generate synthetic data and add them into the database.\n",
    "\n",
    "$~$\n",
    "\n",
    "*we use this [data generator](https://generatedata.com/generator)*\n",
    "\n",
    "$~$"
   ]
  },
  {
   "cell_type": "code",
   "execution_count": null,
   "id": "b59d5d53",
   "metadata": {
    "vscode": {
     "languageId": "sql"
    }
   },
   "outputs": [],
   "source": [
    "INSERT INTO `Clients` (`NameClients`,`Address`,`Email`,`Telephone`)\n",
    "VALUES\n",
    "  (\"Ryder Steele\",\"P.O. Box 158, 4634 A, Ave\",\"tempor.lorem@outlook.edu\",\"03 28 13 11 45\"),\n",
    "  (\"Keaton Hyde\",\"Ap #457-4440 Nec, Ave\",\"augue.ut@outlook.net\",\"07 74 65 60 63\"),\n",
    "  (\"Marah Gallagher\",\"7181 Sed Road\",\"sed.pharetra@google.edu\",\"09 37 78 81 29\"),\n",
    "  (\"Tyrone Barker\",\"P.O. Box 410, 178 Vel, Av.\",\"luctus.lobortis@icloud.net\",\"08 45 23 53 47\"),\n",
    "  (\"Iliana Tillman\",\"7289 A Ave\",\"et.magna@aol.couk\",\"01 56 81 84 57\");\n",
    "  \n",
    "  INSERT INTO `Author` (`NameAuthor`)\n",
    "VALUES\n",
    "  (\"Alea Simoes\"),\n",
    "  (\"Demetrius Marques\"),\n",
    "  (\"Plato Santiago\"),\n",
    "  (\"Nehru Fonseca\"),\n",
    "  (\"India Batista\");\n",
    "  \n",
    "  INSERT INTO `Publishing_house` (`NamePublishing`,`Address`,`Telephone`)\n",
    "VALUES\n",
    "  (\"Sed Diam Industries\",\"Ap #342-8254 Erat Ave\",\"(033022) 028761\"),\n",
    "  (\"Enim Sit Amet Foundation\",\"Ap #225-1004 Aliquam, Rd.\",\"(051) 80819248\"),\n",
    "  (\"In Consequat LLP\",\"900 Vulputate St.\",\"(08379) 5999232\"),\n",
    "  (\"Semper Cursus LLP\",\"159-736 Consectetuer, Rd.\",\"(056) 72455721\");\n",
    "\n",
    "INSERT INTO `Topic` (`NameTopic`)\n",
    "VALUES\n",
    "  (\"Graphic novel\"),\n",
    "  (\"Philosophy\"),\n",
    "  (\"Autobiography\"),\n",
    "  (\"Classic\"),\n",
    "  (\"Crime\");\n",
    "INSERT INTO Book (`ISBN`, `Title`, `NumberExemplars`, `idauthor`, `idpublishing`, `idTopic`) VALUES  \n",
    "('944725406-3', 'R.S.V.P. ', 1, 3, 4, 5),\n",
    "('486432848-X', 'Saint of Fort Washington', 0, 2, 3, 2),\n",
    "('407309289-8', 'Prodigal Sons', 3, 1, 2, 1),\n",
    "('293673365-0', 'Hustler White', 1, 3, 1, 1),\n",
    "('137445174-6', 'Death of a Salesman', 5, 1, 2, 2),\n",
    "('253848396-4', 'Better Off Dead.', 3, 1, 4, 3),\n",
    "('399881251-2', 'Jekyll & Hyde', 1, 1, 1, 4),\n",
    "('205833031-5', 'Play Dirty', 5, 2, 3, 4),\n",
    "('089984664-5', 'After the Thin Man', 0, 1, 3, 4),\n",
    "('742307038-6', 'Playing for Keeps', 0, 5, 4, 5);\n",
    "\n",
    "INSERT INTO `Borrow` (`DateBorrow`,`DateDeliver`,`IdClient`,`idBook`)\n",
    "VALUES\n",
    "  (\"14-01-21\",\"02-02-21\",4,5),\n",
    "  (\"24-01-21\",\"03-02-21\",2,6),\n",
    "  (\"01-01-21\",\"14-02-21\",2,4),\n",
    "  (\"02-01-21\",\"02-02-21\",2,3),\n",
    "  (\"31-01-21\",\"01-02-21\",3,7),\n",
    "  (\"09-01-21\",\"02-02-21\",2,3),\n",
    "  (\"01-02-21\",\"15-02-21\",5,7);\n"
   ]
  },
  {
   "cell_type": "markdown",
   "id": "e5fa775b",
   "metadata": {},
   "source": [
    "$~$\n",
    "\n",
    "let's connect to our database using python:\n",
    "\n",
    "\n",
    "$~$"
   ]
  },
  {
   "cell_type": "code",
   "execution_count": 21,
   "id": "89586456",
   "metadata": {},
   "outputs": [
    {
     "name": "stdout",
     "output_type": "stream",
     "text": [
      "<mysql.connector.connection_cext.CMySQLConnection object at 0x12466fe80>\n"
     ]
    }
   ],
   "source": [
    "db = mysql.connector.connect(\n",
    "     host=\"localhost\",\n",
    "     user=\"root\",\n",
    "     password=\"*********\")\n",
    "\n",
    "print(db)\n",
    "\n",
    "mycursor = db.cursor(buffered=True,dictionary=True)\n"
   ]
  },
  {
   "cell_type": "code",
   "execution_count": 22,
   "id": "90c35885",
   "metadata": {},
   "outputs": [
    {
     "name": "stdout",
     "output_type": "stream",
     "text": [
      "{'Database': 'information_schema'}\n",
      "{'Database': 'library'}\n",
      "{'Database': 'library1'}\n",
      "{'Database': 'mysql'}\n",
      "{'Database': 'performance_schema'}\n",
      "{'Database': 'sys'}\n"
     ]
    }
   ],
   "source": [
    "#cheking for the database\n",
    "mycursor.execute(\"SHOW DATABASES\")\n",
    "\n",
    "for x in mycursor:\n",
    "  print(x)"
   ]
  },
  {
   "cell_type": "code",
   "execution_count": 23,
   "id": "f6d182e8",
   "metadata": {},
   "outputs": [
    {
     "name": "stdout",
     "output_type": "stream",
     "text": [
      "{'Tables_in_library1': 'Author'}\n",
      "{'Tables_in_library1': 'Book'}\n",
      "{'Tables_in_library1': 'Borrow'}\n",
      "{'Tables_in_library1': 'Clients'}\n",
      "{'Tables_in_library1': 'Publishing_house'}\n",
      "{'Tables_in_library1': 'Topic'}\n"
     ]
    }
   ],
   "source": [
    "#cheking for the tables in the library dataset\n",
    "mycursor.execute(\"USE library1\")\n",
    "mycursor.execute(\"SHOW tables\")\n",
    "\n",
    "for x in mycursor:\n",
    "    print(x)\n"
   ]
  },
  {
   "cell_type": "markdown",
   "id": "214112c9",
   "metadata": {},
   "source": [
    "$~$\n",
    "___\n",
    "####  Exercise 2\n",
    "\n",
    "$~$\n",
    "\n",
    "shows that some simple queries can be executed to a Pandas Dataframe:\n",
    "\n",
    "$~$\n",
    "___"
   ]
  },
  {
   "cell_type": "markdown",
   "id": "76419eb6",
   "metadata": {},
   "source": [
    "$~$\n",
    "\n",
    "let's generate a first query: let's look at the authors' names:\n",
    "\n",
    "$~$"
   ]
  },
  {
   "cell_type": "code",
   "execution_count": 24,
   "id": "d4305a29",
   "metadata": {},
   "outputs": [
    {
     "data": {
      "text/plain": [
       "[{'idauthor': 1, 'NameAuthor': 'Alea Simoes'},\n",
       " {'idauthor': 2, 'NameAuthor': 'Demetrius Marques'},\n",
       " {'idauthor': 3, 'NameAuthor': 'Plato Santiago'},\n",
       " {'idauthor': 4, 'NameAuthor': 'Nehru Fonseca'},\n",
       " {'idauthor': 5, 'NameAuthor': 'India Batista'}]"
      ]
     },
     "execution_count": 24,
     "metadata": {},
     "output_type": "execute_result"
    }
   ],
   "source": [
    "#cheking Author table\n",
    "query = \"SELECT * from Author;\"\n",
    "mycursor.execute(query)\n",
    "mycursor.fetchall()"
   ]
  },
  {
   "cell_type": "code",
   "execution_count": 25,
   "id": "bee0f32d",
   "metadata": {},
   "outputs": [
    {
     "data": {
      "text/html": [
       "<div>\n",
       "<style scoped>\n",
       "    .dataframe tbody tr th:only-of-type {\n",
       "        vertical-align: middle;\n",
       "    }\n",
       "\n",
       "    .dataframe tbody tr th {\n",
       "        vertical-align: top;\n",
       "    }\n",
       "\n",
       "    .dataframe thead th {\n",
       "        text-align: right;\n",
       "    }\n",
       "</style>\n",
       "<table border=\"1\" class=\"dataframe\">\n",
       "  <thead>\n",
       "    <tr style=\"text-align: right;\">\n",
       "      <th></th>\n",
       "      <th>idauthor</th>\n",
       "      <th>NameAuthor</th>\n",
       "    </tr>\n",
       "  </thead>\n",
       "  <tbody>\n",
       "    <tr>\n",
       "      <th>0</th>\n",
       "      <td>1</td>\n",
       "      <td>Alea Simoes</td>\n",
       "    </tr>\n",
       "    <tr>\n",
       "      <th>1</th>\n",
       "      <td>2</td>\n",
       "      <td>Demetrius Marques</td>\n",
       "    </tr>\n",
       "    <tr>\n",
       "      <th>2</th>\n",
       "      <td>3</td>\n",
       "      <td>Plato Santiago</td>\n",
       "    </tr>\n",
       "    <tr>\n",
       "      <th>3</th>\n",
       "      <td>4</td>\n",
       "      <td>Nehru Fonseca</td>\n",
       "    </tr>\n",
       "    <tr>\n",
       "      <th>4</th>\n",
       "      <td>5</td>\n",
       "      <td>India Batista</td>\n",
       "    </tr>\n",
       "  </tbody>\n",
       "</table>\n",
       "</div>"
      ],
      "text/plain": [
       "   idauthor         NameAuthor\n",
       "0         1        Alea Simoes\n",
       "1         2  Demetrius Marques\n",
       "2         3     Plato Santiago\n",
       "3         4      Nehru Fonseca\n",
       "4         5      India Batista"
      ]
     },
     "execution_count": 25,
     "metadata": {},
     "output_type": "execute_result"
    }
   ],
   "source": [
    "#save authors table into dataframe\n",
    "authors = pd.read_sql(query,db)\n",
    "authors"
   ]
  },
  {
   "cell_type": "markdown",
   "id": "37a60a81",
   "metadata": {},
   "source": [
    "$~$\n",
    "\n",
    "Let's look at the Clients table:\n",
    "\n",
    "$~$"
   ]
  },
  {
   "cell_type": "code",
   "execution_count": 26,
   "id": "2354cb58",
   "metadata": {},
   "outputs": [
    {
     "data": {
      "text/plain": [
       "[{'idClient': 1,\n",
       "  'NameClients': 'Ryder Steele',\n",
       "  'Address': 'P.O. Box 158, 4634 A, Ave',\n",
       "  'Email': 'tempor.lorem@outlook.edu',\n",
       "  'Telephone': '03 28 13 11 45'},\n",
       " {'idClient': 2,\n",
       "  'NameClients': 'Keaton Hyde',\n",
       "  'Address': 'Ap #457-4440 Nec, Ave',\n",
       "  'Email': 'augue.ut@outlook.net',\n",
       "  'Telephone': '07 74 65 60 63'},\n",
       " {'idClient': 3,\n",
       "  'NameClients': 'Marah Gallagher',\n",
       "  'Address': '7181 Sed Road',\n",
       "  'Email': 'sed.pharetra@google.edu',\n",
       "  'Telephone': '09 37 78 81 29'},\n",
       " {'idClient': 4,\n",
       "  'NameClients': 'Tyrone Barker',\n",
       "  'Address': 'P.O. Box 410, 178 Vel, Av.',\n",
       "  'Email': 'luctus.lobortis@icloud.net',\n",
       "  'Telephone': '08 45 23 53 47'},\n",
       " {'idClient': 5,\n",
       "  'NameClients': 'Iliana Tillman',\n",
       "  'Address': '7289 A Ave',\n",
       "  'Email': 'et.magna@aol.couk',\n",
       "  'Telephone': '01 56 81 84 57'}]"
      ]
     },
     "execution_count": 26,
     "metadata": {},
     "output_type": "execute_result"
    }
   ],
   "source": [
    "#cheking on Clients table\n",
    "query2 = \"SELECT * from Clients\"\n",
    "mycursor.execute(query2)\n",
    "mycursor.fetchall()\n"
   ]
  },
  {
   "cell_type": "code",
   "execution_count": 27,
   "id": "fc635f73",
   "metadata": {},
   "outputs": [
    {
     "data": {
      "text/html": [
       "<div>\n",
       "<style scoped>\n",
       "    .dataframe tbody tr th:only-of-type {\n",
       "        vertical-align: middle;\n",
       "    }\n",
       "\n",
       "    .dataframe tbody tr th {\n",
       "        vertical-align: top;\n",
       "    }\n",
       "\n",
       "    .dataframe thead th {\n",
       "        text-align: right;\n",
       "    }\n",
       "</style>\n",
       "<table border=\"1\" class=\"dataframe\">\n",
       "  <thead>\n",
       "    <tr style=\"text-align: right;\">\n",
       "      <th></th>\n",
       "      <th>idClient</th>\n",
       "      <th>NameClients</th>\n",
       "      <th>Address</th>\n",
       "      <th>Email</th>\n",
       "      <th>Telephone</th>\n",
       "    </tr>\n",
       "  </thead>\n",
       "  <tbody>\n",
       "    <tr>\n",
       "      <th>0</th>\n",
       "      <td>1</td>\n",
       "      <td>Ryder Steele</td>\n",
       "      <td>P.O. Box 158, 4634 A, Ave</td>\n",
       "      <td>tempor.lorem@outlook.edu</td>\n",
       "      <td>03 28 13 11 45</td>\n",
       "    </tr>\n",
       "    <tr>\n",
       "      <th>1</th>\n",
       "      <td>2</td>\n",
       "      <td>Keaton Hyde</td>\n",
       "      <td>Ap #457-4440 Nec, Ave</td>\n",
       "      <td>augue.ut@outlook.net</td>\n",
       "      <td>07 74 65 60 63</td>\n",
       "    </tr>\n",
       "    <tr>\n",
       "      <th>2</th>\n",
       "      <td>3</td>\n",
       "      <td>Marah Gallagher</td>\n",
       "      <td>7181 Sed Road</td>\n",
       "      <td>sed.pharetra@google.edu</td>\n",
       "      <td>09 37 78 81 29</td>\n",
       "    </tr>\n",
       "    <tr>\n",
       "      <th>3</th>\n",
       "      <td>4</td>\n",
       "      <td>Tyrone Barker</td>\n",
       "      <td>P.O. Box 410, 178 Vel, Av.</td>\n",
       "      <td>luctus.lobortis@icloud.net</td>\n",
       "      <td>08 45 23 53 47</td>\n",
       "    </tr>\n",
       "    <tr>\n",
       "      <th>4</th>\n",
       "      <td>5</td>\n",
       "      <td>Iliana Tillman</td>\n",
       "      <td>7289 A Ave</td>\n",
       "      <td>et.magna@aol.couk</td>\n",
       "      <td>01 56 81 84 57</td>\n",
       "    </tr>\n",
       "  </tbody>\n",
       "</table>\n",
       "</div>"
      ],
      "text/plain": [
       "   idClient      NameClients                     Address  \\\n",
       "0         1     Ryder Steele   P.O. Box 158, 4634 A, Ave   \n",
       "1         2      Keaton Hyde       Ap #457-4440 Nec, Ave   \n",
       "2         3  Marah Gallagher               7181 Sed Road   \n",
       "3         4    Tyrone Barker  P.O. Box 410, 178 Vel, Av.   \n",
       "4         5   Iliana Tillman                  7289 A Ave   \n",
       "\n",
       "                        Email       Telephone  \n",
       "0    tempor.lorem@outlook.edu  03 28 13 11 45  \n",
       "1        augue.ut@outlook.net  07 74 65 60 63  \n",
       "2     sed.pharetra@google.edu  09 37 78 81 29  \n",
       "3  luctus.lobortis@icloud.net  08 45 23 53 47  \n",
       "4           et.magna@aol.couk  01 56 81 84 57  "
      ]
     },
     "execution_count": 27,
     "metadata": {},
     "output_type": "execute_result"
    }
   ],
   "source": [
    "#save clients into dataframe\n",
    "clients = pd.read_sql(query2,db)\n",
    "clients"
   ]
  },
  {
   "cell_type": "markdown",
   "id": "3ad638f1",
   "metadata": {},
   "source": [
    "$~$\n",
    "\n",
    "Let's take a look at the detail of the books in the library:\n",
    "\n",
    "$~$"
   ]
  },
  {
   "cell_type": "code",
   "execution_count": 28,
   "id": "3c565cd8",
   "metadata": {},
   "outputs": [],
   "source": [
    "query3 =\"SELECT\\\n",
    "         Author.NameAuthor as Author, Book.Title,Topic.NameTopic as Topic,\\\n",
    "        Publishing_house.Namepublishing as Publishing_house_name,Book.NumberExemplars\\\n",
    "        FROM Author\\\n",
    "        INNER JOIN Book ON Author.idauthor=Book.idauthor\\\n",
    "        INNER JOIN Topic ON Topic.idTopic = Book.idTopic\\\n",
    "        INNER JOIN Publishing_house ON Publishing_house.idpublishing = Book.idpublishing\\\n",
    "        ORDER BY NumberExemplars DESC\""
   ]
  },
  {
   "cell_type": "code",
   "execution_count": 29,
   "id": "9d81fa4f",
   "metadata": {},
   "outputs": [],
   "source": [
    "mycursor.execute(query3)\n",
    "books = clients = pd.read_sql(query3,db)\n"
   ]
  },
  {
   "cell_type": "code",
   "execution_count": 30,
   "id": "a8741f55",
   "metadata": {},
   "outputs": [
    {
     "data": {
      "text/html": [
       "<div>\n",
       "<style scoped>\n",
       "    .dataframe tbody tr th:only-of-type {\n",
       "        vertical-align: middle;\n",
       "    }\n",
       "\n",
       "    .dataframe tbody tr th {\n",
       "        vertical-align: top;\n",
       "    }\n",
       "\n",
       "    .dataframe thead th {\n",
       "        text-align: right;\n",
       "    }\n",
       "</style>\n",
       "<table border=\"1\" class=\"dataframe\">\n",
       "  <thead>\n",
       "    <tr style=\"text-align: right;\">\n",
       "      <th></th>\n",
       "      <th>Author</th>\n",
       "      <th>Title</th>\n",
       "      <th>Topic</th>\n",
       "      <th>Publishing_house_name</th>\n",
       "      <th>NumberExemplars</th>\n",
       "    </tr>\n",
       "  </thead>\n",
       "  <tbody>\n",
       "    <tr>\n",
       "      <th>0</th>\n",
       "      <td>Alea Simoes</td>\n",
       "      <td>Death of a Salesman</td>\n",
       "      <td>Philosophy</td>\n",
       "      <td>Enim Sit Amet Foundation</td>\n",
       "      <td>5</td>\n",
       "    </tr>\n",
       "    <tr>\n",
       "      <th>1</th>\n",
       "      <td>Demetrius Marques</td>\n",
       "      <td>Play Dirty</td>\n",
       "      <td>Classic</td>\n",
       "      <td>In Consequat LLP</td>\n",
       "      <td>5</td>\n",
       "    </tr>\n",
       "    <tr>\n",
       "      <th>2</th>\n",
       "      <td>Alea Simoes</td>\n",
       "      <td>Prodigal Sons</td>\n",
       "      <td>Graphic novel</td>\n",
       "      <td>Enim Sit Amet Foundation</td>\n",
       "      <td>3</td>\n",
       "    </tr>\n",
       "    <tr>\n",
       "      <th>3</th>\n",
       "      <td>Alea Simoes</td>\n",
       "      <td>Better Off Dead.</td>\n",
       "      <td>Autobiography</td>\n",
       "      <td>Semper Cursus LLP</td>\n",
       "      <td>3</td>\n",
       "    </tr>\n",
       "    <tr>\n",
       "      <th>4</th>\n",
       "      <td>Plato Santiago</td>\n",
       "      <td>Hustler White</td>\n",
       "      <td>Graphic novel</td>\n",
       "      <td>Sed Diam Industries</td>\n",
       "      <td>1</td>\n",
       "    </tr>\n",
       "    <tr>\n",
       "      <th>5</th>\n",
       "      <td>Alea Simoes</td>\n",
       "      <td>Jekyll &amp; Hyde</td>\n",
       "      <td>Classic</td>\n",
       "      <td>Sed Diam Industries</td>\n",
       "      <td>1</td>\n",
       "    </tr>\n",
       "    <tr>\n",
       "      <th>6</th>\n",
       "      <td>Plato Santiago</td>\n",
       "      <td>R.S.V.P.</td>\n",
       "      <td>Crime</td>\n",
       "      <td>Semper Cursus LLP</td>\n",
       "      <td>1</td>\n",
       "    </tr>\n",
       "    <tr>\n",
       "      <th>7</th>\n",
       "      <td>Demetrius Marques</td>\n",
       "      <td>Saint of Fort Washington</td>\n",
       "      <td>Philosophy</td>\n",
       "      <td>In Consequat LLP</td>\n",
       "      <td>0</td>\n",
       "    </tr>\n",
       "    <tr>\n",
       "      <th>8</th>\n",
       "      <td>Alea Simoes</td>\n",
       "      <td>After the Thin Man</td>\n",
       "      <td>Classic</td>\n",
       "      <td>In Consequat LLP</td>\n",
       "      <td>0</td>\n",
       "    </tr>\n",
       "    <tr>\n",
       "      <th>9</th>\n",
       "      <td>India Batista</td>\n",
       "      <td>Playing for Keeps</td>\n",
       "      <td>Crime</td>\n",
       "      <td>Semper Cursus LLP</td>\n",
       "      <td>0</td>\n",
       "    </tr>\n",
       "  </tbody>\n",
       "</table>\n",
       "</div>"
      ],
      "text/plain": [
       "              Author                     Title          Topic  \\\n",
       "0        Alea Simoes       Death of a Salesman     Philosophy   \n",
       "1  Demetrius Marques                Play Dirty        Classic   \n",
       "2        Alea Simoes             Prodigal Sons  Graphic novel   \n",
       "3        Alea Simoes          Better Off Dead.  Autobiography   \n",
       "4     Plato Santiago             Hustler White  Graphic novel   \n",
       "5        Alea Simoes             Jekyll & Hyde        Classic   \n",
       "6     Plato Santiago                 R.S.V.P.           Crime   \n",
       "7  Demetrius Marques  Saint of Fort Washington     Philosophy   \n",
       "8        Alea Simoes        After the Thin Man        Classic   \n",
       "9      India Batista         Playing for Keeps          Crime   \n",
       "\n",
       "      Publishing_house_name  NumberExemplars  \n",
       "0  Enim Sit Amet Foundation                5  \n",
       "1          In Consequat LLP                5  \n",
       "2  Enim Sit Amet Foundation                3  \n",
       "3         Semper Cursus LLP                3  \n",
       "4       Sed Diam Industries                1  \n",
       "5       Sed Diam Industries                1  \n",
       "6         Semper Cursus LLP                1  \n",
       "7          In Consequat LLP                0  \n",
       "8          In Consequat LLP                0  \n",
       "9         Semper Cursus LLP                0  "
      ]
     },
     "execution_count": 30,
     "metadata": {},
     "output_type": "execute_result"
    }
   ],
   "source": [
    "#total books \n",
    "books"
   ]
  },
  {
   "cell_type": "markdown",
   "id": "4e4ffa28",
   "metadata": {},
   "source": [
    "$~$\n",
    "\n",
    "which clients have loans?\n",
    "\n",
    "$~$"
   ]
  },
  {
   "cell_type": "code",
   "execution_count": 31,
   "id": "6e3b932d",
   "metadata": {},
   "outputs": [],
   "source": [
    "query4 = \"SELECT\\\n",
    "        distinct(NameClients), count(idBorrow) as total_Borrows\\\n",
    "        FROM Clients\\\n",
    "        INNER JOIN Borrow on Clients.idClient = Borrow.idClient\\\n",
    "        GROUP BY NameClients\""
   ]
  },
  {
   "cell_type": "code",
   "execution_count": 32,
   "id": "93616c67",
   "metadata": {},
   "outputs": [
    {
     "data": {
      "text/html": [
       "<div>\n",
       "<style scoped>\n",
       "    .dataframe tbody tr th:only-of-type {\n",
       "        vertical-align: middle;\n",
       "    }\n",
       "\n",
       "    .dataframe tbody tr th {\n",
       "        vertical-align: top;\n",
       "    }\n",
       "\n",
       "    .dataframe thead th {\n",
       "        text-align: right;\n",
       "    }\n",
       "</style>\n",
       "<table border=\"1\" class=\"dataframe\">\n",
       "  <thead>\n",
       "    <tr style=\"text-align: right;\">\n",
       "      <th></th>\n",
       "      <th>NameClients</th>\n",
       "      <th>total_Borrows</th>\n",
       "    </tr>\n",
       "  </thead>\n",
       "  <tbody>\n",
       "    <tr>\n",
       "      <th>0</th>\n",
       "      <td>Keaton Hyde</td>\n",
       "      <td>4</td>\n",
       "    </tr>\n",
       "    <tr>\n",
       "      <th>1</th>\n",
       "      <td>Marah Gallagher</td>\n",
       "      <td>1</td>\n",
       "    </tr>\n",
       "    <tr>\n",
       "      <th>2</th>\n",
       "      <td>Tyrone Barker</td>\n",
       "      <td>1</td>\n",
       "    </tr>\n",
       "    <tr>\n",
       "      <th>3</th>\n",
       "      <td>Iliana Tillman</td>\n",
       "      <td>1</td>\n",
       "    </tr>\n",
       "  </tbody>\n",
       "</table>\n",
       "</div>"
      ],
      "text/plain": [
       "       NameClients  total_Borrows\n",
       "0      Keaton Hyde              4\n",
       "1  Marah Gallagher              1\n",
       "2    Tyrone Barker              1\n",
       "3   Iliana Tillman              1"
      ]
     },
     "execution_count": 32,
     "metadata": {},
     "output_type": "execute_result"
    }
   ],
   "source": [
    "mycursor.execute(query4)\n",
    "loans_by_clients = pd.read_sql(query4,db)\n",
    "loans_by_clients"
   ]
  },
  {
   "cell_type": "markdown",
   "id": "207411f0",
   "metadata": {},
   "source": [
    "$~$\n",
    "\n",
    "finally, let's take a look at the detail of the Borrows:\n",
    "\n",
    "$~$"
   ]
  },
  {
   "cell_type": "code",
   "execution_count": 33,
   "id": "8d320b7c",
   "metadata": {},
   "outputs": [],
   "source": [
    "query5 = \"SELECT\\\n",
    "        NameClients as Client, Title, Namepublishing as Publish_house,\\\n",
    "        count(idBorrow) as total_Borrows\\\n",
    "        FROM Clients\\\n",
    "        INNER JOIN Borrow on Clients.idClient = Borrow.idClient\\\n",
    "        INNER JOIN Book on Book.idBook = Borrow.idBook\\\n",
    "        INNER JOIN Publishing_house on Publishing_house.idpublishing = Book.idpublishing\\\n",
    "        GROUP BY Title, NameClients, Namepublishing\\\n",
    "        ORDER BY total_Borrows DESC\""
   ]
  },
  {
   "cell_type": "code",
   "execution_count": 34,
   "id": "821d4925",
   "metadata": {},
   "outputs": [
    {
     "data": {
      "text/html": [
       "<div>\n",
       "<style scoped>\n",
       "    .dataframe tbody tr th:only-of-type {\n",
       "        vertical-align: middle;\n",
       "    }\n",
       "\n",
       "    .dataframe tbody tr th {\n",
       "        vertical-align: top;\n",
       "    }\n",
       "\n",
       "    .dataframe thead th {\n",
       "        text-align: right;\n",
       "    }\n",
       "</style>\n",
       "<table border=\"1\" class=\"dataframe\">\n",
       "  <thead>\n",
       "    <tr style=\"text-align: right;\">\n",
       "      <th></th>\n",
       "      <th>Client</th>\n",
       "      <th>Title</th>\n",
       "      <th>Publish_house</th>\n",
       "      <th>total_Borrows</th>\n",
       "    </tr>\n",
       "  </thead>\n",
       "  <tbody>\n",
       "    <tr>\n",
       "      <th>0</th>\n",
       "      <td>Keaton Hyde</td>\n",
       "      <td>Prodigal Sons</td>\n",
       "      <td>Enim Sit Amet Foundation</td>\n",
       "      <td>2</td>\n",
       "    </tr>\n",
       "    <tr>\n",
       "      <th>1</th>\n",
       "      <td>Tyrone Barker</td>\n",
       "      <td>Death of a Salesman</td>\n",
       "      <td>Enim Sit Amet Foundation</td>\n",
       "      <td>1</td>\n",
       "    </tr>\n",
       "    <tr>\n",
       "      <th>2</th>\n",
       "      <td>Keaton Hyde</td>\n",
       "      <td>Better Off Dead.</td>\n",
       "      <td>Semper Cursus LLP</td>\n",
       "      <td>1</td>\n",
       "    </tr>\n",
       "    <tr>\n",
       "      <th>3</th>\n",
       "      <td>Keaton Hyde</td>\n",
       "      <td>Hustler White</td>\n",
       "      <td>Sed Diam Industries</td>\n",
       "      <td>1</td>\n",
       "    </tr>\n",
       "    <tr>\n",
       "      <th>4</th>\n",
       "      <td>Marah Gallagher</td>\n",
       "      <td>Jekyll &amp; Hyde</td>\n",
       "      <td>Sed Diam Industries</td>\n",
       "      <td>1</td>\n",
       "    </tr>\n",
       "    <tr>\n",
       "      <th>5</th>\n",
       "      <td>Iliana Tillman</td>\n",
       "      <td>Jekyll &amp; Hyde</td>\n",
       "      <td>Sed Diam Industries</td>\n",
       "      <td>1</td>\n",
       "    </tr>\n",
       "  </tbody>\n",
       "</table>\n",
       "</div>"
      ],
      "text/plain": [
       "            Client                Title             Publish_house  \\\n",
       "0      Keaton Hyde        Prodigal Sons  Enim Sit Amet Foundation   \n",
       "1    Tyrone Barker  Death of a Salesman  Enim Sit Amet Foundation   \n",
       "2      Keaton Hyde     Better Off Dead.         Semper Cursus LLP   \n",
       "3      Keaton Hyde        Hustler White       Sed Diam Industries   \n",
       "4  Marah Gallagher        Jekyll & Hyde       Sed Diam Industries   \n",
       "5   Iliana Tillman        Jekyll & Hyde       Sed Diam Industries   \n",
       "\n",
       "   total_Borrows  \n",
       "0              2  \n",
       "1              1  \n",
       "2              1  \n",
       "3              1  \n",
       "4              1  \n",
       "5              1  "
      ]
     },
     "execution_count": 34,
     "metadata": {},
     "output_type": "execute_result"
    }
   ],
   "source": [
    "mycursor.execute(query5)\n",
    "loans_by_clients_title = pd.read_sql(query5,db)\n",
    "loans_by_clients_title\n"
   ]
  },
  {
   "cell_type": "code",
   "execution_count": 35,
   "id": "00ef6782",
   "metadata": {},
   "outputs": [
    {
     "data": {
      "text/plain": [
       "True"
      ]
     },
     "execution_count": 35,
     "metadata": {},
     "output_type": "execute_result"
    }
   ],
   "source": [
    "#close the conection\n",
    "mycursor.close()"
   ]
  },
  {
   "cell_type": "markdown",
   "id": "d7caa1ff",
   "metadata": {},
   "source": [
    "$~$\n",
    "___\n",
    "####  Exercise 3\n",
    "\n",
    "$~$\n",
    "\n",
    "Generate some plots to summarizing the data. \n",
    "\n",
    "$~$\n",
    "___"
   ]
  },
  {
   "cell_type": "markdown",
   "id": "f0c6dca4",
   "metadata": {},
   "source": [
    "$~$\n",
    "\n",
    "+ Total borrow books by clients\n",
    "\n",
    "$~$"
   ]
  },
  {
   "cell_type": "code",
   "execution_count": 16,
   "id": "0377219b",
   "metadata": {},
   "outputs": [
    {
     "data": {
      "image/png": "[encoded data removed]",
      "text/plain": [
       "<Figure size 360x360 with 1 Axes>"
      ]
     },
     "metadata": {},
     "output_type": "display_data"
    }
   ],
   "source": [
    "sns.set_context(\"talk\")\n",
    "plt.style.use('ggplot')\n",
    "fig, ax = plt.subplots(figsize =(5,5))\n",
    "sns.barplot(x=\"NameClients\",y=\"total_Borrows\", data=loans_by_clients, palette=\"Blues_r\")\n",
    "ax.bar_label(ax.containers[0])\n",
    "plt.title(\"Total Borrow by clients\")\n",
    "plt.xticks(fontsize=8)\n",
    "plt.yticks(fontsize=8)\n",
    "plt.tight_layout()\n",
    "plt.show()"
   ]
  },
  {
   "cell_type": "markdown",
   "id": "96cd6b2c",
   "metadata": {},
   "source": [
    "+ Total books by authors"
   ]
  },
  {
   "cell_type": "code",
   "execution_count": 17,
   "id": "b033405f",
   "metadata": {},
   "outputs": [
    {
     "data": {
      "image/png": "[encoded data removed]",
      "text/plain": [
       "<Figure size 360x360 with 1 Axes>"
      ]
     },
     "metadata": {},
     "output_type": "display_data"
    }
   ],
   "source": [
    "sns.set_context(\"talk\")\n",
    "plt.style.use('ggplot')\n",
    "fig, ax = plt.subplots(figsize =(5,5))\n",
    "sns.countplot(x=\"Author\" ,data=books, palette=\"Oranges_r\")\n",
    "ax.bar_label(ax.containers[0])\n",
    "plt.title(\"Total books by authors\")\n",
    "plt.xticks(fontsize=8)\n",
    "plt.yticks(fontsize=8)\n",
    "plt.tight_layout()\n",
    "plt.show()"
   ]
  },
  {
   "cell_type": "markdown",
   "id": "69d7f5a5",
   "metadata": {},
   "source": [
    "+ total books by topics"
   ]
  },
  {
   "cell_type": "code",
   "execution_count": 18,
   "id": "4ab6ec99",
   "metadata": {},
   "outputs": [
    {
     "data": {
      "image/png": "[encoded data removed]",
      "text/plain": [
       "<Figure size 360x360 with 1 Axes>"
      ]
     },
     "metadata": {},
     "output_type": "display_data"
    }
   ],
   "source": [
    "sns.set_context(\"talk\")\n",
    "plt.style.use('ggplot')\n",
    "fig, ax = plt.subplots(figsize =(5,5))\n",
    "# create data\n",
    "names = books.Topic.value_counts().index\n",
    "size = books.Topic.value_counts().values\n",
    "# Create a circle at the center of the plot\n",
    "my_circle = plt.Circle( (0,0), 0.7, color='white')\n",
    "# Give color names\n",
    "from palettable.colorbrewer.qualitative import Pastel1_7\n",
    "\n",
    "p = plt.gcf()\n",
    "plt.pie(size, labels=names,colors=Pastel1_7.hex_colors,\n",
    "        autopct='%1.1f%%', pctdistance=0.85,wedgeprops = { 'linewidth' : 7, 'edgecolor' : 'white' },\n",
    "        textprops={'fontsize': 12})\n",
    "p.gca().add_artist(my_circle)\n",
    "plt.title(\"Total books by topic\")\n",
    "\n",
    "\n",
    "# Show the graph\n",
    "plt.show()\n"
   ]
  },
  {
   "cell_type": "markdown",
   "id": "6adc2e3d",
   "metadata": {},
   "source": [
    "+ total books by "
   ]
  },
  {
   "cell_type": "code",
   "execution_count": null,
   "id": "040d6d0c",
   "metadata": {},
   "outputs": [
    {
     "data": {
      "image/png": "[encoded data removed]",
      "text/plain": [
       "<Figure size 360x360 with 1 Axes>"
      ]
     },
     "metadata": {},
     "output_type": "display_data"
    }
   ],
   "source": [
    "sns.set_context(\"talk\")\n",
    "plt.style.use('ggplot')\n",
    "fig, ax = plt.subplots(figsize =(5,5))\n",
    "# create data\n",
    "names = books.Publishing_house_name.value_counts().index\n",
    "size = books.Publishing_house_name.value_counts().values\n",
    "# Create a circle at the center of the plot\n",
    "my_circle = plt.Circle( (0,0), 0.7, color='white')\n",
    "# Give color names\n",
    "from palettable.colorbrewer.qualitative import Pastel1_7\n",
    "\n",
    "p = plt.gcf()\n",
    "plt.pie(size, labels=names,colors=Pastel1_7.hex_colors,\n",
    "        autopct='%1.1f%%', pctdistance=0.85,wedgeprops = { 'linewidth' : 7, 'edgecolor' : 'white' },\n",
    "        textprops={'fontsize': 12})\n",
    "p.gca().add_artist(my_circle)\n",
    "plt.title(\"Total books by publishing house\")\n",
    "\n",
    "\n",
    "# Show the graph\n",
    "plt.show()"
   ]
  },
  {
   "cell_type": "markdown",
   "id": "dca1eb0c",
   "metadata": {},
   "source": [
    "$~$\n",
    "___\n",
    "####  Conclusions\n",
    "\n",
    "$~$\n",
    "\n",
    "+ As we have seen, we can easily connect to a database using python.\n",
    "\n",
    "___\n",
    "$~$"
   ]
  },
  {
   "cell_type": "markdown",
   "id": "d0eedf5c",
   "metadata": {},
   "source": [
    "___\n",
    "$~$\n",
    "\n",
    "####  *References*:\n",
    "\n",
    "+ [How to Execute SQL Queries in Python and R Tutorial ](https://www.datacamp.com/tutorial/tutorial-how-to-execute-sql-queries-in-r-and-python) \n",
    "+ [Getting Started with MySQL Python Connector](https://www.mysqltutorial.org/getting-started-mysql-python-connector/) \n",
    "\n",
    "$~$\n",
    "___"
   ]
  }
 ],
 "metadata": {
  "interpreter": {
   "hash": "c196e456b92eeb3a60b06f99b3c60ac6c4763f8bb1169beee1475ccb9dd5a29f"
  },
  "kernelspec": {
   "display_name": "Python 3.9.5 64-bit ('3.9.5')",
   "language": "python",
   "name": "python3"
  },
  "language_info": {
   "codemirror_mode": {
    "name": "ipython",
    "version": 3
   },
   "file_extension": ".py",
   "mimetype": "text/x-python",
   "name": "python",
   "nbconvert_exporter": "python",
   "pygments_lexer": "ipython3",
   "version": "3.9.5"
  },
  "toc": {
   "base_numbering": 1,
   "nav_menu": {},
   "number_sections": false,
   "sideBar": true,
   "skip_h1_title": false,
   "title_cell": "Table of Contents",
   "title_sidebar": "Contents",
   "toc_cell": false,
   "toc_position": {},
   "toc_section_display": true,
   "toc_window_display": true
  }
 },
 "nbformat": 4,
 "nbformat_minor": 5
}
