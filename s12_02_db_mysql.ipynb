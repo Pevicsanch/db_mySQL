{
 "cells": [
  {
   "cell_type": "markdown",
   "id": "857001a9",
   "metadata": {},
   "source": [
    "$~$\n",
    "\n",
    "# IT Academy - Data Science Itinerary\n",
    "\n",
    "\n",
    "\n",
    "$~$"
   ]
  },
  {
   "cell_type": "markdown",
   "id": "ad6e86cc",
   "metadata": {},
   "source": [
    "## S12 T02: DB with MySQl\n",
    "___\n"
   ]
  },
  {
   "cell_type": "code",
   "execution_count": null,
   "id": "343f71ef",
   "metadata": {},
   "outputs": [],
   "source": [
    "#importing libraries\n"
   ]
  },
  {
   "cell_type": "markdown",
   "id": "7557656a",
   "metadata": {},
   "source": [
    "$~$\n",
    "___\n",
    "####  Exercise 1\n",
    "\n",
    "$~$\n",
    "\n",
    "Create relational database and access with Python\n",
    "\n",
    "$~$\n",
    "___"
   ]
  },
  {
   "cell_type": "markdown",
   "id": "3c7717fe",
   "metadata": {},
   "source": [
    "For this exercise we will design a database for a **library**."
   ]
  },
  {
   "cell_type": "markdown",
   "id": "96705941",
   "metadata": {},
   "source": [
    "$~$\n",
    "\n",
    "+ First, we have designed a diagram for the database as follows.\n",
    "\n",
    "$~$\n",
    "\n",
    "![Image](./diagram1.png)"
   ]
  },
  {
   "cell_type": "markdown",
   "id": "1d2bb4ca",
   "metadata": {},
   "source": [
    "$~$\n",
    "\n",
    "+ The next step was to write a sql script to create the database and the tables\n",
    "\n",
    "$~$\n",
    "\n",
    "The scrip with which we have the database is as follows. \n",
    "\n",
    "$~$\n",
    "\n",
    "(***note that the scrip is also part of the repository.***)"
   ]
  },
  {
   "cell_type": "code",
   "execution_count": null,
   "id": "52775165",
   "metadata": {
    "vscode": {
     "languageId": "sql"
    }
   },
   "outputs": [],
   "source": [
    "CREATE DATABASE IF NOT EXISTS library;\n",
    "USE library;\n",
    "DROP TABLE IF EXISTS Loan;\n",
    "DROP TABLE IF EXISTS Book;\n",
    "DROP TABLE IF EXISTS Clients;\n",
    "DROP TABLE IF EXISTS Topic;\n",
    "DROP TABLE IF EXISTS Publishing_house;\n",
    "DROP TABLE IF EXISTS Author;\n",
    "\n",
    "CREATE TABLE Author (\n",
    "\tidauthor INT NOT NULL AUTO_INCREMENT,\n",
    "\tNameAuthor VARCHAR(60) NOT NULL,\n",
    "\tPRIMARY KEY (idauthor)\n",
    ") ENGINE=InnoDB;\n",
    "\n",
    "CREATE TABLE Publishing_house (\n",
    "\tidpublishing INT NOT NULL AUTO_INCREMENT,\n",
    "\tNamepublishing VARCHAR(30) NOT NULL,\n",
    "\tAddress VARCHAR (100) NOT NULL,\n",
    "\tTelephone VARCHAR (15) NOT NULL, \n",
    " \tPRIMARY KEY (idpublishing)\n",
    ") ENGINE=InnoDB;\n",
    "\n",
    "CREATE TABLE Topic (\n",
    "\tidTopic INT NOT NULL AUTO_INCREMENT,\n",
    "\tNameTopic VARCHAR(30) NOT NULL,\n",
    "\tPRIMARY KEY (idTopic)\n",
    ") ENGINE=InnoDB;\n",
    "\n",
    "CREATE TABLE Clients (\n",
    "\tidClient INT NOT NULL AUTO_INCREMENT,\n",
    "\tNameClients VARCHAR(60) NOT NULL,\n",
    "\tAddress VARCHAR(100) NOT NULL,\n",
    "\tEmail VARCHAR(25) NULL DEFAULT 'non E-mail',\n",
    "\tTelephone VARCHAR(15) NOT NULL,\n",
    "\tPRIMARY KEY (idClient)\n",
    ") ENGINE=InnoDB;\n",
    "\n",
    "CREATE TABLE Book (\n",
    "\tidBook INT NOT NULL AUTO_INCREMENT,\n",
    "\tISBN VARCHAR(20) NOT NULL UNIQUE,\n",
    "\tTitle VARCHAR(65) NOT NULL,\n",
    "\tNumberExemplars TINYINT NOT NULL,\n",
    "\tidauthor INT NOT NULL,\n",
    "\tidpublishing INT NOT NULL,\n",
    "\tidTopic INT NOT NULL,\n",
    "\tPRIMARY KEY (idBook),\n",
    "\tFOREIGN KEY (idauthor) REFERENCES Author (idauthor) ON DELETE CASCADE ON UPDATE CASCADE,\n",
    "\tFOREIGN KEY (idpublishing) REFERENCES Publishing_house (idpublishing) ON DELETE CASCADE ON UPDATE CASCADE,\n",
    "\tFOREIGN KEY (idTopic) REFERENCES Topic (idTopic) ON DELETE CASCADE ON UPDATE CASCADE\n",
    ") ENGINE=InnoDB;\n",
    "\n",
    "CREATE TABLE Loan (\n",
    "\tidLoan INT NOT NULL AUTO_INCREMENT,\n",
    "\tDateLoan DATE NOT NULL,\n",
    "\tDateDeliver DATE NOT NULL,\n",
    "\tidClient INT NOT NULL,\n",
    "\tidBook INT NOT NULL,\n",
    "\tPRIMARY KEY (idLoan),\n",
    "\tFOREIGN KEY (idClient) REFERENCES Clients (idClient) ON DELETE CASCADE ON UPDATE CASCADE,\n",
    "\tFOREIGN KEY (idBook) REFERENCES Book (idBook) ON DELETE CASCADE ON UPDATE CASCADE\n",
    ") ENGINE=InnoDB;\n",
    "\n"
   ]
  },
  {
   "cell_type": "markdown",
   "id": "30ebc193",
   "metadata": {},
   "source": [
    "$~$\n",
    "\n",
    "+ the next step is to generate synthetic data and add them into the database.\n",
    "\n",
    "$~$\n",
    "\n",
    "*we use this [data generator](https://generatedata.com/generator)*\n",
    "\n",
    "$~$"
   ]
  },
  {
   "cell_type": "code",
   "execution_count": null,
   "id": "b59d5d53",
   "metadata": {
    "vscode": {
     "languageId": "sql"
    }
   },
   "outputs": [],
   "source": []
  },
  {
   "cell_type": "markdown",
   "id": "214112c9",
   "metadata": {},
   "source": [
    "$~$\n",
    "___\n",
    "####  Exercise 2\n",
    "\n",
    "$~$\n",
    "\n",
    "shows that some simple queries can be executed to a Pandas Dataframe:\n",
    "\n",
    "$~$\n",
    "___"
   ]
  },
  {
   "cell_type": "markdown",
   "id": "d7caa1ff",
   "metadata": {},
   "source": [
    "$~$\n",
    "___\n",
    "####  Exercise 3\n",
    "\n",
    "$~$\n",
    "\n",
    "Generate some plots to summarizing the data. \n",
    "\n",
    "$~$\n",
    "___"
   ]
  },
  {
   "cell_type": "markdown",
   "id": "dca1eb0c",
   "metadata": {},
   "source": [
    "$~$\n",
    "___\n",
    "####  Conclusions\n",
    "\n",
    "$~$\n",
    "\n",
    "\n",
    "\n",
    "\n",
    "___\n",
    "$~$"
   ]
  },
  {
   "cell_type": "markdown",
   "id": "d0eedf5c",
   "metadata": {},
   "source": [
    "___\n",
    "$~$\n",
    "\n",
    "####  *References*:\n",
    "\n",
    "+ []() \n",
    "+ []() \n",
    "+ []() \n",
    "$~$\n",
    "___"
   ]
  }
 ],
 "metadata": {
  "kernelspec": {
   "display_name": "Python 3 (ipykernel)",
   "language": "python",
   "name": "python3"
  },
  "language_info": {
   "codemirror_mode": {
    "name": "ipython",
    "version": 3
   },
   "file_extension": ".py",
   "mimetype": "text/x-python",
   "name": "python",
   "nbconvert_exporter": "python",
   "pygments_lexer": "ipython3",
   "version": "3.9.7"
  },
  "toc": {
   "base_numbering": 1,
   "nav_menu": {},
   "number_sections": false,
   "sideBar": true,
   "skip_h1_title": false,
   "title_cell": "Table of Contents",
   "title_sidebar": "Contents",
   "toc_cell": false,
   "toc_position": {},
   "toc_section_display": true,
   "toc_window_display": true
  }
 },
 "nbformat": 4,
 "nbformat_minor": 5
}
