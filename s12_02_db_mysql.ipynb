{
 "cells": [
  {
   "cell_type": "markdown",
   "id": "857001a9",
   "metadata": {},
   "source": [
    "$~$\n",
    "\n",
    "# IT Academy - Data Science Itinerary\n",
    "\n",
    "\n",
    "\n",
    "$~$"
   ]
  },
  {
   "cell_type": "markdown",
   "id": "ad6e86cc",
   "metadata": {},
   "source": [
    "## S12 T02: DB with MySQl\n",
    "___\n"
   ]
  },
  {
   "cell_type": "code",
   "execution_count": null,
   "id": "343f71ef",
   "metadata": {},
   "outputs": [],
   "source": [
    "#importing libraries\n"
   ]
  },
  {
   "cell_type": "markdown",
   "id": "7557656a",
   "metadata": {},
   "source": [
    "$~$\n",
    "___\n",
    "####  Exercise 1\n",
    "\n",
    "$~$\n",
    "\n",
    "Create relational database and access with Python\n",
    "\n",
    "$~$\n",
    "___"
   ]
  },
  {
   "cell_type": "markdown",
   "id": "3c7717fe",
   "metadata": {},
   "source": [
    "For this exercise we will design a database for a **library**."
   ]
  },
  {
   "cell_type": "markdown",
   "id": "96705941",
   "metadata": {},
   "source": [
    "$~$\n",
    "\n",
    "+ First, we have designed a diagram for the database as follows.\n",
    "\n",
    "$~$\n",
    "\n",
    "![Image](./diagram1.png)"
   ]
  },
  {
   "cell_type": "markdown",
   "id": "1d2bb4ca",
   "metadata": {},
   "source": [
    "$~$\n",
    "\n",
    "+ The next step was to write a sql script to create the database and the tables\n",
    "\n",
    "$~$\n",
    "\n",
    "The scrip with which we have the database is as follows. \n",
    "\n",
    "$~$\n",
    "\n",
    "(***note that the scrip is also part of the repository.***)"
   ]
  },
  {
   "cell_type": "code",
   "execution_count": null,
   "id": "52775165",
   "metadata": {
    "vscode": {
     "languageId": "sql"
    }
   },
   "outputs": [],
   "source": [
    "CREATE DATABASE IF NOT EXISTS library;\n",
    "USE library;\n",
    "DROP TABLE IF EXISTS Loan;\n",
    "DROP TABLE IF EXISTS Book;\n",
    "DROP TABLE IF EXISTS Clients;\n",
    "DROP TABLE IF EXISTS Topic;\n",
    "DROP TABLE IF EXISTS Publishing_house;\n",
    "DROP TABLE IF EXISTS Author;\n",
    "\n",
    "CREATE TABLE Author (\n",
    "\tidauthor INT NOT NULL AUTO_INCREMENT,\n",
    "\tNameAuthor VARCHAR(60) NOT NULL,\n",
    "\tPRIMARY KEY (idauthor)\n",
    ") ENGINE=InnoDB;\n",
    "\n",
    "CREATE TABLE Publishing_house (\n",
    "\tidpublishing INT NOT NULL AUTO_INCREMENT,\n",
    "\tNamepublishing VARCHAR(30) NOT NULL,\n",
    "\tAddress VARCHAR (100) NOT NULL,\n",
    "\tTelephone VARCHAR (15) NOT NULL, \n",
    " \tPRIMARY KEY (idpublishing)\n",
    ") ENGINE=InnoDB;\n",
    "\n",
    "CREATE TABLE Topic (\n",
    "\tidTopic INT NOT NULL AUTO_INCREMENT,\n",
    "\tNameTopic VARCHAR(30) NOT NULL,\n",
    "\tPRIMARY KEY (idTopic)\n",
    ") ENGINE=InnoDB;\n",
    "\n",
    "CREATE TABLE Clients (\n",
    "\tidClient INT NOT NULL AUTO_INCREMENT,\n",
    "\tNameClients VARCHAR(60) NOT NULL,\n",
    "\tAddress VARCHAR(100) NOT NULL,\n",
    "\tEmail VARCHAR(25) NULL DEFAULT 'non E-mail',\n",
    "\tTelephone VARCHAR(15) NOT NULL,\n",
    "\tPRIMARY KEY (idClient)\n",
    ") ENGINE=InnoDB;\n",
    "\n",
    "CREATE TABLE Book (\n",
    "\tidBook INT NOT NULL AUTO_INCREMENT,\n",
    "\tISBN VARCHAR(20) NOT NULL UNIQUE,\n",
    "\tTitle VARCHAR(65) NOT NULL,\n",
    "\tNumberExemplars TINYINT NOT NULL,\n",
    "\tidauthor INT NOT NULL,\n",
    "\tidpublishing INT NOT NULL,\n",
    "\tidTopic INT NOT NULL,\n",
    "\tPRIMARY KEY (idBook),\n",
    "\tFOREIGN KEY (idauthor) REFERENCES Author (idauthor) ON DELETE CASCADE ON UPDATE CASCADE,\n",
    "\tFOREIGN KEY (idpublishing) REFERENCES Publishing_house (idpublishing) ON DELETE CASCADE ON UPDATE CASCADE,\n",
    "\tFOREIGN KEY (idTopic) REFERENCES Topic (idTopic) ON DELETE CASCADE ON UPDATE CASCADE\n",
    ") ENGINE=InnoDB;\n",
    "\n",
    "CREATE TABLE Loan (\n",
    "\tidLoan INT NOT NULL AUTO_INCREMENT,\n",
    "\tDateLoan DATE NOT NULL,\n",
    "\tDateDeliver DATE NOT NULL,\n",
    "\tidClient INT NOT NULL,\n",
    "\tidBook INT NOT NULL,\n",
    "\tPRIMARY KEY (idLoan),\n",
    "\tFOREIGN KEY (idClient) REFERENCES Clients (idClient) ON DELETE CASCADE ON UPDATE CASCADE,\n",
    "\tFOREIGN KEY (idBook) REFERENCES Book (idBook) ON DELETE CASCADE ON UPDATE CASCADE\n",
    ") ENGINE=InnoDB;\n",
    "\n"
   ]
  },
  {
   "cell_type": "markdown",
   "id": "30ebc193",
   "metadata": {},
   "source": [
    "$~$\n",
    "\n",
    "+ the next step is to generate synthetic data and add them into the database.\n",
    "\n",
    "$~$\n",
    "\n",
    "*we use this [data generator](https://generatedata.com/generator)*\n",
    "\n",
    "$~$"
   ]
  },
  {
   "cell_type": "code",
   "execution_count": null,
   "id": "b59d5d53",
   "metadata": {
    "vscode": {
     "languageId": "sql"
    }
   },
   "outputs": [],
   "source": [
    "INSERT INTO `Clients` (`NameClients`,`Address`,`Email`,`Telephone`)\n",
    "VALUES\n",
    "  (\"Ryder Steele\",\"P.O. Box 158, 4634 A, Ave\",\"tempor.lorem@outlook.edu\",\"03 28 13 11 45\"),\n",
    "  (\"Keaton Hyde\",\"Ap #457-4440 Nec, Ave\",\"augue.ut@outlook.net\",\"07 74 65 60 63\"),\n",
    "  (\"Marah Gallagher\",\"7181 Sed Road\",\"sed.pharetra@google.edu\",\"09 37 78 81 29\"),\n",
    "  (\"Tyrone Barker\",\"P.O. Box 410, 178 Vel, Av.\",\"luctus.lobortis@icloud.net\",\"08 45 23 53 47\"),\n",
    "  (\"Iliana Tillman\",\"7289 A Ave\",\"et.magna@aol.couk\",\"01 56 81 84 57\");\n",
    "  \n",
    "  INSERT INTO `Author` (`NameAuthor`)\n",
    "VALUES\n",
    "  (\"Alea Simoes\"),\n",
    "  (\"Demetrius Marques\"),\n",
    "  (\"Plato Santiago\"),\n",
    "  (\"Nehru Fonseca\"),\n",
    "  (\"India Batista\");\n",
    "  \n",
    "  INSERT INTO `Publishing_house` (`NamePublishing`,`Address`,`Telephone`)\n",
    "VALUES\n",
    "  (\"Sed Diam Industries\",\"Ap #342-8254 Erat Ave\",\"(033022) 028761\"),\n",
    "  (\"Enim Sit Amet Foundation\",\"Ap #225-1004 Aliquam, Rd.\",\"(051) 80819248\"),\n",
    "  (\"In Consequat LLP\",\"900 Vulputate St.\",\"(08379) 5999232\"),\n",
    "  (\"Semper Cursus LLP\",\"159-736 Consectetuer, Rd.\",\"(056) 72455721\");\n",
    "\n",
    "INSERT INTO `Topic` (`NameTopic`)\n",
    "VALUES\n",
    "  (\"Graphic novel\"),\n",
    "  (\"Philosophy\"),\n",
    "  (\"Autobiography\"),\n",
    "  (\"Classic\"),\n",
    "  (\"Crime\");\n",
    "INSERT INTO Book (`ISBN`, `Title`, `NumberExemplars`, `idauthor`, `idpublishing`, `idTopic`) VALUES  \n",
    "('944725406-3', 'R.S.V.P. ', 1, 3, 4, 5),\n",
    "('486432848-X', 'Saint of Fort Washington', 0, 2, 3, 2),\n",
    "('407309289-8', 'Prodigal Sons', 3, 1, 2, 1),\n",
    "('293673365-0', 'Hustler White', 1, 3, 1, 1),\n",
    "('137445174-6', 'Death of a Salesman', 5, 1, 2, 2),\n",
    "('253848396-4', 'Better Off Dead.', 3, 1, 4, 3),\n",
    "('399881251-2', 'Jekyll & Hyde', 1, 1, 1, 4),\n",
    "('205833031-5', 'Play Dirty', 5, 2, 3, 4),\n",
    "('089984664-5', 'After the Thin Man', 0, 1, 3, 4),\n",
    "('742307038-6', 'Playing for Keeps', 0, 5, 4, 5);\n",
    "\n",
    "INSERT INTO `Loan` (`DateLoan`,`DateDeliver`,`IdClient`,`idBook`)\n",
    "VALUES\n",
    "  (\"14-01-21\",\"02-02-21\",4,5),\n",
    "  (\"24-01-21\",\"03-02-21\",2,6),\n",
    "  (\"01-01-21\",\"14-02-21\",2,4),\n",
    "  (\"02-01-21\",\"02-02-21\",2,3),\n",
    "  (\"31-01-21\",\"01-02-21\",3,7),\n",
    "  (\"09-01-21\",\"02-02-21\",2,3),\n",
    "  (\"01-02-21\",\"15-02-21\",5,7);\n"
   ]
  },
  {
   "cell_type": "markdown",
   "id": "214112c9",
   "metadata": {},
   "source": [
    "$~$\n",
    "___\n",
    "####  Exercise 2\n",
    "\n",
    "$~$\n",
    "\n",
    "shows that some simple queries can be executed to a Pandas Dataframe:\n",
    "\n",
    "$~$\n",
    "___"
   ]
  },
  {
   "cell_type": "markdown",
   "id": "d7caa1ff",
   "metadata": {},
   "source": [
    "$~$\n",
    "___\n",
    "####  Exercise 3\n",
    "\n",
    "$~$\n",
    "\n",
    "Generate some plots to summarizing the data. \n",
    "\n",
    "$~$\n",
    "___"
   ]
  },
  {
   "cell_type": "markdown",
   "id": "dca1eb0c",
   "metadata": {},
   "source": [
    "$~$\n",
    "___\n",
    "####  Conclusions\n",
    "\n",
    "$~$\n",
    "\n",
    "\n",
    "\n",
    "\n",
    "___\n",
    "$~$"
   ]
  },
  {
   "cell_type": "markdown",
   "id": "d0eedf5c",
   "metadata": {},
   "source": [
    "___\n",
    "$~$\n",
    "\n",
    "####  *References*:\n",
    "\n",
    "+ []() \n",
    "+ []() \n",
    "+ []() \n",
    "$~$\n",
    "___"
   ]
  }
 ],
 "metadata": {
  "kernelspec": {
   "display_name": "Python 3 (ipykernel)",
   "language": "python",
   "name": "python3"
  },
  "language_info": {
   "codemirror_mode": {
    "name": "ipython",
    "version": 3
   },
   "file_extension": ".py",
   "mimetype": "text/x-python",
   "name": "python",
   "nbconvert_exporter": "python",
   "pygments_lexer": "ipython3",
   "version": "3.9.7"
  },
  "toc": {
   "base_numbering": 1,
   "nav_menu": {},
   "number_sections": false,
   "sideBar": true,
   "skip_h1_title": false,
   "title_cell": "Table of Contents",
   "title_sidebar": "Contents",
   "toc_cell": false,
   "toc_position": {},
   "toc_section_display": true,
   "toc_window_display": true
  }
 },
 "nbformat": 4,
 "nbformat_minor": 5
}
